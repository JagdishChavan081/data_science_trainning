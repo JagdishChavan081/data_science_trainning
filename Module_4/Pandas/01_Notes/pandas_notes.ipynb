{
 "cells": [
  {
   "cell_type": "markdown",
   "metadata": {},
   "source": [
    "<center>  <h1>Introduction To Pandas</h1></center>\n",
    "\n",
    "<center><h3>CHAPTER 1</h3></center>\n",
    "In this chapter, we will cover the following topics:\n",
    "\n",
    "- Introduction to the world of pandas\n",
    "- Exploring the history and evolution of pandas\n",
    "- Components and applications of pandas\n",
    "- Understanding the basic concepts of pandas\n",
    "- Activity – comparing sales data for two stores\n"
   ]
  },
  {
   "cell_type": "markdown",
   "metadata": {},
   "source": [
    "### History\n",
    "\n",
    "- Open sourced in 2009 by Wes McKinney, an MIT graduate with experience in quantitative finance.\n",
    "- McKinney aimed to create an intuitive and elegant tool that required minimal code due to dissatisfaction with existing tools.\n",
    "- Became one of the most popular tools in the data science community.\n",
    "- Contributed significantly to the increased popularity of Python in the data science field.\n",
    "\n",
    "### Versatility of Pandas:\n",
    "\n",
    "- Well-suited for handling various types of data, including:\n",
    "- Tabular data with columns capable of storing different types of data (e.g., numerical and text data).\n",
    "- Ordered and unordered series data (e.g., [2, 4, 8, 9, 10]).\n",
    "- Multi-dimensional matrix data (three-dimensional, four-dimensional, etc.).\n",
    "- Any other form of observational/statistical data (e.g., SQL data and R data).\n",
    "\n",
    "### Key Features:\n",
    "\n",
    "- Large repertoire of intuitive and easy-to-use functions/methods.\n",
    "- Pandas is the go-to tool for data analytics.\n",
    "\n",
    "### Pandas Components and Applications:\n",
    "\n",
    "- pandas/core: Implements basic data structures like Series and DataFrames, crucial for data manipulation.\n",
    "- pandas/src: Houses foundational algorithms written in C or Cython, providing core functionalities implicitly used by users.\n",
    "- pandas/io: Toolsets for file and data input/output, supporting formats like CSV and text (covered in Chapter 3, Data I/O).\n",
    "- pandas/tools: Code and algorithms for functions/methods like merge, join, and concat.\n",
    "- pandas/sparse: Manages missing values in data structures like DataFrames and Series.\n",
    "- pandas/stats: Contains tools for statistical functions such as regression and classification.\n",
    "- pandas/util: Includes utilities for debugging the library.\n",
    "- pandas/rpy: Interface for connecting to R.\n",
    "\n",
    "### notable applications\n",
    "\n",
    "- Recommendation systems\n",
    "- Advertising\n",
    "- Stock predictions\n",
    "- Neuroscience\n",
    "- Natural language processing (NLP)\n",
    "\n",
    "### The Series object\n",
    "\n",
    "- Begin with understanding one-dimensional data in pandas.\n",
    "- One-dimensional data is represented as Series objects in pandas.\n",
    "- Series objects are initialized using the **pd.Series()** constructor.\n",
    "\n",
    "**Code Example:**\n",
    "\n",
    "- The following code demonstrates the use of pd.Series() constructor.\n",
    "- Create a new Series named ser1 using the constructor, Calling the Series by its assigned name (e.g., ser1) will display its contents.\n"
   ]
  },
  {
   "cell_type": "code",
   "execution_count": 1,
   "metadata": {},
   "outputs": [
    {
     "data": {
      "text/plain": [
       "0    10\n",
       "1    20\n",
       "2    30\n",
       "3    40\n",
       "dtype: int64"
      ]
     },
     "execution_count": 1,
     "metadata": {},
     "output_type": "execute_result"
    }
   ],
   "source": [
    "# importing pandas library\n",
    "import pandas as pd\n",
    "\n",
    "# Creating a Series\n",
    "ser1 = pd.Series([10, 20, 30, 40])\n",
    "\n",
    "# Displaying the Series\n",
    "ser1"
   ]
  },
  {
   "cell_type": "markdown",
   "metadata": {},
   "source": [
    "- From the output, you can see that the one-dimensional list is represented as a Series, The numbers to the left of the Series (0, 1, 2, 3) are its indices.\n",
    "- You can represent different types of data in a Series. For example, consider the following snippet:\n"
   ]
  },
  {
   "cell_type": "code",
   "execution_count": 2,
   "metadata": {},
   "outputs": [
    {
     "data": {
      "text/plain": [
       "0                            [10, 20]\n",
       "1                  [30, 40.5, series]\n",
       "2                            [50, 55]\n",
       "3    {'Name': 'Tess', 'Org': 'Packt'}\n",
       "dtype: object"
      ]
     },
     "execution_count": 2,
     "metadata": {},
     "output_type": "execute_result"
    }
   ],
   "source": [
    "ser2 = pd.Series(\n",
    "    [[10, 20], [30, 40.5, \"series\"], [50, 55], {\"Name\": \"Tess\", \"Org\": \"Packt\"}]\n",
    ")\n",
    "ser2"
   ]
  },
  {
   "cell_type": "markdown",
   "metadata": {},
   "source": [
    "### The DataFrame object\n",
    "\n",
    "- DataFrame is a fundamental structure in pandas.\n",
    "- Represents two-dimensional data in rows and columns.\n",
    "- Use the DataFrame() constructor to initialize a DataFrame in pandas.\n",
    "- The following code demonstrates the conversion of a simple list object into a one-dimensional DataFrame.\n"
   ]
  },
  {
   "cell_type": "code",
   "execution_count": 3,
   "metadata": {},
   "outputs": [
    {
     "data": {
      "text/html": [
       "<div>\n",
       "<style scoped>\n",
       "    .dataframe tbody tr th:only-of-type {\n",
       "        vertical-align: middle;\n",
       "    }\n",
       "\n",
       "    .dataframe tbody tr th {\n",
       "        vertical-align: top;\n",
       "    }\n",
       "\n",
       "    .dataframe thead th {\n",
       "        text-align: right;\n",
       "    }\n",
       "</style>\n",
       "<table border=\"1\" class=\"dataframe\">\n",
       "  <thead>\n",
       "    <tr style=\"text-align: right;\">\n",
       "      <th></th>\n",
       "      <th>0</th>\n",
       "    </tr>\n",
       "  </thead>\n",
       "  <tbody>\n",
       "    <tr>\n",
       "      <th>0</th>\n",
       "      <td>30</td>\n",
       "    </tr>\n",
       "    <tr>\n",
       "      <th>1</th>\n",
       "      <td>50</td>\n",
       "    </tr>\n",
       "    <tr>\n",
       "      <th>2</th>\n",
       "      <td>20</td>\n",
       "    </tr>\n",
       "  </tbody>\n",
       "</table>\n",
       "</div>"
      ],
      "text/plain": [
       "    0\n",
       "0  30\n",
       "1  50\n",
       "2  20"
      ]
     },
     "execution_count": 3,
     "metadata": {},
     "output_type": "execute_result"
    }
   ],
   "source": [
    "# Create a DataFrame using the constructor\n",
    "df = pd.DataFrame([30, 50, 20])\n",
    "\n",
    "# Display the DataFrame\n",
    "df"
   ]
  },
  {
   "cell_type": "markdown",
   "metadata": {},
   "source": [
    "- The above code Demonstrated in the preceding code, where a list of three elements is converted into a DataFrame using the DataFrame() constructor.\n",
    "\n",
    "**DataFrame Shape Visualization:**\n",
    "\n",
    "- Use the **df.shape()** command to visualize the shape of a DataFrame.\n",
    "- The shape provides information about the number of rows and columns in the DataFrame.\n"
   ]
  },
  {
   "cell_type": "code",
   "execution_count": 4,
   "metadata": {},
   "outputs": [
    {
     "data": {
      "text/plain": [
       "(3, 1)"
      ]
     },
     "execution_count": 4,
     "metadata": {},
     "output_type": "execute_result"
    }
   ],
   "source": [
    "df.shape"
   ]
  },
  {
   "cell_type": "markdown",
   "metadata": {},
   "source": [
    "- Here, the first element (3) is the number of rows, while the second (1) is the number of columns.\n"
   ]
  },
  {
   "cell_type": "markdown",
   "metadata": {},
   "source": [
    "- If you look at the DataFrame, you will see 0 at the top of the column.\n",
    "- This is the default name that will be assigned to the column when the DataFrame is created.\n",
    "- You can also see the numbers 0, 1, and 2 along the rows. These are called indices.\n",
    "- To display the column names of the DataFrame, you can use the following command:\n"
   ]
  },
  {
   "cell_type": "code",
   "execution_count": 5,
   "metadata": {},
   "outputs": [
    {
     "data": {
      "text/plain": [
       "RangeIndex(start=0, stop=1, step=1)"
      ]
     },
     "execution_count": 5,
     "metadata": {},
     "output_type": "execute_result"
    }
   ],
   "source": [
    "df.columns"
   ]
  },
  {
   "cell_type": "markdown",
   "metadata": {},
   "source": [
    "- The output shows that it is a range of indices starting at 0 and stopping at 1 with a step size of 1, So, in effect, there is just one column with the name 0.\n",
    "- You can also display the names of the indices for the rows using the following command:\n"
   ]
  },
  {
   "cell_type": "code",
   "execution_count": 6,
   "metadata": {},
   "outputs": [
    {
     "data": {
      "text/plain": [
       "RangeIndex(start=0, stop=3, step=1)"
      ]
     },
     "execution_count": 6,
     "metadata": {},
     "output_type": "execute_result"
    }
   ],
   "source": [
    "df.index"
   ]
  },
  {
   "cell_type": "markdown",
   "metadata": {},
   "source": [
    "- There are many instances where you would want to use the column names and row indices for further processing.\n",
    "- For such purposes, you can convert them into a list using the list() command.\n",
    "- The following snippet converts the column names and row indices into lists and then prints those values:\n"
   ]
  },
  {
   "cell_type": "code",
   "execution_count": 7,
   "metadata": {},
   "outputs": [
    {
     "name": "stdout",
     "output_type": "stream",
     "text": [
      "These are the names of the columns [0]\n",
      "These are the row indices [0, 1, 2]\n"
     ]
    }
   ],
   "source": [
    "# print names of columns\n",
    "print(\"These are the names of the columns\", list(df.columns))\n",
    "\n",
    "# print indices\n",
    "print(\"These are the row indices\", list(df.index))"
   ]
  },
  {
   "cell_type": "markdown",
   "metadata": {},
   "source": [
    "- From the output, you can see that the column names and the row indices are represented as a list.\n",
    "- You can also rename the columns and row indices by assigning them to any list of values.\n",
    "- The command for renaming a column is **df.columns**, as shown in the following snippet:\n"
   ]
  },
  {
   "cell_type": "code",
   "execution_count": 8,
   "metadata": {},
   "outputs": [
    {
     "data": {
      "text/html": [
       "<div>\n",
       "<style scoped>\n",
       "    .dataframe tbody tr th:only-of-type {\n",
       "        vertical-align: middle;\n",
       "    }\n",
       "\n",
       "    .dataframe tbody tr th {\n",
       "        vertical-align: top;\n",
       "    }\n",
       "\n",
       "    .dataframe thead th {\n",
       "        text-align: right;\n",
       "    }\n",
       "</style>\n",
       "<table border=\"1\" class=\"dataframe\">\n",
       "  <thead>\n",
       "    <tr style=\"text-align: right;\">\n",
       "      <th></th>\n",
       "      <th>V1</th>\n",
       "    </tr>\n",
       "  </thead>\n",
       "  <tbody>\n",
       "    <tr>\n",
       "      <th>0</th>\n",
       "      <td>30</td>\n",
       "    </tr>\n",
       "    <tr>\n",
       "      <th>1</th>\n",
       "      <td>50</td>\n",
       "    </tr>\n",
       "    <tr>\n",
       "      <th>2</th>\n",
       "      <td>20</td>\n",
       "    </tr>\n",
       "  </tbody>\n",
       "</table>\n",
       "</div>"
      ],
      "text/plain": [
       "   V1\n",
       "0  30\n",
       "1  50\n",
       "2  20"
      ]
     },
     "execution_count": 8,
     "metadata": {},
     "output_type": "execute_result"
    }
   ],
   "source": [
    "# Renaming the columns\n",
    "df.columns = [\"V1\"]\n",
    "df"
   ]
  },
  {
   "cell_type": "markdown",
   "metadata": {},
   "source": [
    "- The command for renaming an index is **df.index**, as shown in the following snippet:\n"
   ]
  },
  {
   "cell_type": "code",
   "execution_count": 9,
   "metadata": {},
   "outputs": [
    {
     "data": {
      "text/html": [
       "<div>\n",
       "<style scoped>\n",
       "    .dataframe tbody tr th:only-of-type {\n",
       "        vertical-align: middle;\n",
       "    }\n",
       "\n",
       "    .dataframe tbody tr th {\n",
       "        vertical-align: top;\n",
       "    }\n",
       "\n",
       "    .dataframe thead th {\n",
       "        text-align: right;\n",
       "    }\n",
       "</style>\n",
       "<table border=\"1\" class=\"dataframe\">\n",
       "  <thead>\n",
       "    <tr style=\"text-align: right;\">\n",
       "      <th></th>\n",
       "      <th>V1</th>\n",
       "    </tr>\n",
       "  </thead>\n",
       "  <tbody>\n",
       "    <tr>\n",
       "      <th>R1</th>\n",
       "      <td>30</td>\n",
       "    </tr>\n",
       "    <tr>\n",
       "      <th>R2</th>\n",
       "      <td>50</td>\n",
       "    </tr>\n",
       "    <tr>\n",
       "      <th>R3</th>\n",
       "      <td>20</td>\n",
       "    </tr>\n",
       "  </tbody>\n",
       "</table>\n",
       "</div>"
      ],
      "text/plain": [
       "    V1\n",
       "R1  30\n",
       "R2  50\n",
       "R3  20"
      ]
     },
     "execution_count": 9,
     "metadata": {},
     "output_type": "execute_result"
    }
   ],
   "source": [
    "# Renaming the indices\n",
    "df.index = [\"R1\", \"R2\", \"R3\"]\n",
    "df"
   ]
  },
  {
   "cell_type": "markdown",
   "metadata": {},
   "source": [
    "- what if you need to create a DataFrame that contains multiple columns from the list data? This can easily be\n",
    "  achieved using a nested list of lists, as follows:\n"
   ]
  },
  {
   "cell_type": "code",
   "execution_count": 10,
   "metadata": {},
   "outputs": [
    {
     "name": "stdout",
     "output_type": "stream",
     "text": [
      "Shape of new data frame (2, 3)\n"
     ]
    },
    {
     "data": {
      "text/html": [
       "<div>\n",
       "<style scoped>\n",
       "    .dataframe tbody tr th:only-of-type {\n",
       "        vertical-align: middle;\n",
       "    }\n",
       "\n",
       "    .dataframe tbody tr th {\n",
       "        vertical-align: top;\n",
       "    }\n",
       "\n",
       "    .dataframe thead th {\n",
       "        text-align: right;\n",
       "    }\n",
       "</style>\n",
       "<table border=\"1\" class=\"dataframe\">\n",
       "  <thead>\n",
       "    <tr style=\"text-align: right;\">\n",
       "      <th></th>\n",
       "      <th>0</th>\n",
       "      <th>1</th>\n",
       "      <th>2</th>\n",
       "    </tr>\n",
       "  </thead>\n",
       "  <tbody>\n",
       "    <tr>\n",
       "      <th>0</th>\n",
       "      <td>10</td>\n",
       "      <td>15</td>\n",
       "      <td>20</td>\n",
       "    </tr>\n",
       "    <tr>\n",
       "      <th>1</th>\n",
       "      <td>100</td>\n",
       "      <td>200</td>\n",
       "      <td>300</td>\n",
       "    </tr>\n",
       "  </tbody>\n",
       "</table>\n",
       "</div>"
      ],
      "text/plain": [
       "     0    1    2\n",
       "0   10   15   20\n",
       "1  100  200  300"
      ]
     },
     "execution_count": 10,
     "metadata": {},
     "output_type": "execute_result"
    }
   ],
   "source": [
    "# Creating DataFrame with multiple columns\n",
    "df1 = pd.DataFrame([[10, 15, 20], [100, 200, 300]])\n",
    "\n",
    "print(\"Shape of new data frame\", df1.shape)\n",
    "df1"
   ]
  },
  {
   "cell_type": "markdown",
   "metadata": {},
   "source": [
    "- you can see that the new DataFrame has two rows and three columns.\n",
    "- The first list forms the first row, and each of its elements gets mapped to the three columns.\n",
    "- The second list becomes the second row,\n",
    "- You can also assign the column names and row names while creating the DataFrame, To do that for the preceding DataFrame, the following command must be executed:\n"
   ]
  },
  {
   "cell_type": "code",
   "execution_count": 11,
   "metadata": {},
   "outputs": [
    {
     "data": {
      "text/html": [
       "<div>\n",
       "<style scoped>\n",
       "    .dataframe tbody tr th:only-of-type {\n",
       "        vertical-align: middle;\n",
       "    }\n",
       "\n",
       "    .dataframe tbody tr th {\n",
       "        vertical-align: top;\n",
       "    }\n",
       "\n",
       "    .dataframe thead th {\n",
       "        text-align: right;\n",
       "    }\n",
       "</style>\n",
       "<table border=\"1\" class=\"dataframe\">\n",
       "  <thead>\n",
       "    <tr style=\"text-align: right;\">\n",
       "      <th></th>\n",
       "      <th>V1</th>\n",
       "      <th>V2</th>\n",
       "      <th>V3</th>\n",
       "    </tr>\n",
       "  </thead>\n",
       "  <tbody>\n",
       "    <tr>\n",
       "      <th>R1</th>\n",
       "      <td>10</td>\n",
       "      <td>15</td>\n",
       "      <td>20</td>\n",
       "    </tr>\n",
       "    <tr>\n",
       "      <th>R2</th>\n",
       "      <td>100</td>\n",
       "      <td>200</td>\n",
       "      <td>300</td>\n",
       "    </tr>\n",
       "  </tbody>\n",
       "</table>\n",
       "</div>"
      ],
      "text/plain": [
       "     V1   V2   V3\n",
       "R1   10   15   20\n",
       "R2  100  200  300"
      ]
     },
     "execution_count": 11,
     "metadata": {},
     "output_type": "execute_result"
    }
   ],
   "source": [
    "df1 = pd.DataFrame(\n",
    "    [[10, 15, 20], [100, 200, 300]], columns=[\"V1\", \"V2\", \"V3\"], index=[\"R1\", \"R2\"]\n",
    ")\n",
    "df1"
   ]
  },
  {
   "cell_type": "markdown",
   "metadata": {},
   "source": [
    "- From the output, you see that the column names (V1, V2, and V3) and index names (R1 and R2) have been initialized with the user-provided values.\n",
    "\n",
    "### Working with local files\n",
    "\n",
    "- involves importing data from various source files and exporting outputs in different formats.\n",
    "- Essential processes in data manipulation and analysis.\n",
    "- Indispensable when handling data tasks.\n",
    "- The following exercise will focus on performing preliminary operations with a CSV file.\n",
    "\n",
    "- **Dataset : Student Performance Data**,\n",
    "- sourced from the UCI Machine Learning library.\n",
    "- This dataset details student achievement in secondary education in two Portuguese schools. Some of the key variables of the dataset include student grades, demographic information, and other social and school-related features, such as hours of study time and prior failures.\n",
    "- The dataset has been sourced from P. Cortez and A. Silva. Using Data Mining to Predict Secondary School Student Performance.\n",
    "- In A. Brito and J. Teixeira Eds., Proceedings of 5th Future Business Technology Conference (FUBUTEC 2008) pp. 5-12, Porto, Portugal, April 2008, EUROSIS, ISBN 978-9077381-39-7.\n",
    "- Link -> https://archive.ics.uci.edu/ml/datasets/Student+Performance.\n"
   ]
  },
  {
   "cell_type": "markdown",
   "metadata": {},
   "source": [
    "### Reading a CSV file\n",
    "\n",
    "- To read a CSV file, you can use the following command **pd.read_csv(filename, delimiter)**\n",
    "-\n"
   ]
  },
  {
   "cell_type": "code",
   "execution_count": null,
   "metadata": {},
   "outputs": [],
   "source": []
  },
  {
   "cell_type": "markdown",
   "metadata": {},
   "source": []
  }
 ],
 "metadata": {
  "kernelspec": {
   "display_name": "Python 3",
   "language": "python",
   "name": "python3"
  },
  "language_info": {
   "codemirror_mode": {
    "name": "ipython",
    "version": 3
   },
   "file_extension": ".py",
   "mimetype": "text/x-python",
   "name": "python",
   "nbconvert_exporter": "python",
   "pygments_lexer": "ipython3",
   "version": "3.8.18"
  }
 },
 "nbformat": 4,
 "nbformat_minor": 2
}
