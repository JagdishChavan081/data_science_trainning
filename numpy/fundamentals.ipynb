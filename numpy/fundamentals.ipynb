{
 "cells": [
  {
   "cell_type": "markdown",
   "metadata": {},
   "source": [
    "### **What is Numpy?**\n",
    "\n",
    "- Numpy is the fundamental package for scientific computing in Python.\n",
    "- It is a Python library that provides a multidimensional array object, various derived objects(such as masked array and matrices).\n",
    "- Also an assortment of routines for fast operations on arrays, including mathematical, logical, shape manipulation, sorting,slecting, I/O, descrete Fourier transforms, basic linear algebra, basic statistical operations, random simulation and much more.\n",
    "- At the core of the NumPy package, is the ndarry object. This encapsulation n-dimensional arrays of homogenous data types.\n",
    "\n",
    "### **Numpy Arrays vs Python Sequences**\n",
    "\n",
    "- Numpy arrays have a fixed size at creation, unlike Python list(which can grow dynamically). Changing the size of an ndarray will create a new aray and delete the original.\n",
    "- The elements in a NumPy array are required to be of the same data type, and thus will be the same size in memeory.\n",
    "- NumPy arrays facillitate advanced mathematical and other types of operations on large numbers of data. Typically such operations are executed more efficently and with less code that is possible using Python's built-in sequences.\n",
    "- A growing plethora of scientific and mathematical Python-based packages are using NumPy arrays; through these typically support Python-sqeuence input, they convert such input to NumPy arrays propr to processing, and they often output NumPy arrays.\n"
   ]
  },
  {
   "cell_type": "markdown",
   "metadata": {},
   "source": [
    "### **Create Numpy Array**\n"
   ]
  },
  {
   "cell_type": "code",
   "execution_count": 2,
   "metadata": {},
   "outputs": [],
   "source": [
    "#importing required library\n",
    "import numpy as np"
   ]
  },
  {
   "cell_type": "code",
   "execution_count": 9,
   "metadata": {},
   "outputs": [
    {
     "name": "stdout",
     "output_type": "stream",
     "text": [
      "1\n",
      "<class 'numpy.ndarray'>\n",
      "dimension of array:  0\n",
      "shape of array: ()\n"
     ]
    }
   ],
   "source": [
    "#create Numpy array as scaler\n",
    "scl = np.array(1)\n",
    "print(scl)\n",
    "\n",
    "#check type of array\n",
    "print(type(scl))\n",
    "\n",
    "#check dimension of array\n",
    "print(\"dimension of array: \",scl.ndim)\n",
    "\n",
    "#check shapeof array\n",
    "print(\"shape of array:\",scl.shape)"
   ]
  },
  {
   "cell_type": "code",
   "execution_count": 12,
   "metadata": {},
   "outputs": [
    {
     "name": "stdout",
     "output_type": "stream",
     "text": [
      "[1 2]\n",
      "class of array:  <class 'numpy.ndarray'>\n",
      "dimension of array:  1\n",
      "shape of array:  (2,)\n"
     ]
    }
   ],
   "source": [
    "#create a numpy array as vector\n",
    "vec = np.array([1,2])\n",
    "print(vec)\n",
    "#check type of array\n",
    "print(\"class of array: \",type(vec))\n",
    "\n",
    "#checking dimension of array\n",
    "print(\"dimension of array: \",vec.ndim)\n",
    "\n",
    "#check shape of array\n",
    "print(\"shape of array: \",vec.shape)"
   ]
  },
  {
   "cell_type": "code",
   "execution_count": 13,
   "metadata": {},
   "outputs": [
    {
     "name": "stdout",
     "output_type": "stream",
     "text": [
      "[[1 2 3]\n",
      " [4 5 6]]\n",
      "class of array:  <class 'numpy.ndarray'>\n",
      "Dimension of array:  2\n",
      "shape of array:  (2, 3)\n"
     ]
    }
   ],
   "source": [
    "#Numpy 2D array as matric\n",
    "mat = np.array([[1,2,3],[4,5,6]])\n",
    "print(mat)\n",
    "#check type of array\n",
    "print(\"class of array: \",type(mat))\n",
    "\n",
    "#checking dimension of array\n",
    "print(\"Dimension of array: \", mat.ndim)\n",
    "\n",
    "#check shape of array\n",
    "print(\"shape of array: \",mat.shape)"
   ]
  },
  {
   "cell_type": "code",
   "execution_count": 15,
   "metadata": {},
   "outputs": [
    {
     "name": "stdout",
     "output_type": "stream",
     "text": [
      "[[[1 2 3]\n",
      "  [4 5 6]\n",
      "  [7 8 9]]]\n",
      "class of array:  <class 'numpy.ndarray'>\n",
      "Dimensionof array:  3\n",
      "shape of array:  (1, 3, 3)\n"
     ]
    }
   ],
   "source": [
    "#Naumpy 3d array as tensor\n",
    "ten = np.array([[[1,2,3],[4,5,6],[7,8,9]]])\n",
    "print(ten)\n",
    "\n",
    "#check type of array\n",
    "print(\"class of array: \",type(ten))\n",
    "\n",
    "#checking dimension of array\n",
    "print(\"Dimensionof array: \",ten.ndim)\n",
    "\n",
    "#check shape of array\n",
    "print(\"shape of array: \",ten.shape)"
   ]
  },
  {
   "cell_type": "markdown",
   "metadata": {},
   "source": [
    "### **Check and Change data type of array**\n"
   ]
  },
  {
   "cell_type": "code",
   "execution_count": 16,
   "metadata": {},
   "outputs": [
    {
     "name": "stdout",
     "output_type": "stream",
     "text": [
      "int32\n"
     ]
    }
   ],
   "source": [
    "#check data type of aray\n",
    "print(ten.dtype)"
   ]
  },
  {
   "cell_type": "code",
   "execution_count": 24,
   "metadata": {},
   "outputs": [
    {
     "name": "stdout",
     "output_type": "stream",
     "text": [
      "[[[1. 2. 3.]\n",
      "  [4. 5. 6.]\n",
      "  [7. 8. 9.]]]\n",
      "float16\n"
     ]
    }
   ],
   "source": [
    "#change data type of array\n",
    "ten_16 = ten.astype('float16')\n",
    "print(ten_16)\n",
    "print(ten_16.dtype)"
   ]
  },
  {
   "cell_type": "code",
   "execution_count": 26,
   "metadata": {},
   "outputs": [
    {
     "name": "stdout",
     "output_type": "stream",
     "text": [
      "[[[1. 2. 3.]\n",
      "  [4. 5. 6.]\n",
      "  [7. 8. 9.]]]\n",
      "int16\n"
     ]
    }
   ],
   "source": [
    "ten_int16 = ten.astype('int16')\n",
    "print(ten_16)\n",
    "print(ten_int16.dtype)"
   ]
  },
  {
   "cell_type": "code",
   "execution_count": 28,
   "metadata": {},
   "outputs": [
    {
     "name": "stdout",
     "output_type": "stream",
     "text": [
      "[[[ True  True  True]\n",
      "  [ True  True  True]\n",
      "  [ True  True  True]]]\n",
      "bool\n"
     ]
    }
   ],
   "source": [
    "ten_bool = ten.astype('bool')\n",
    "print(ten_bool)\n",
    "print(ten_bool.dtype)"
   ]
  },
  {
   "cell_type": "markdown",
   "metadata": {},
   "source": [
    "### **np.arange**\n",
    "\n",
    "- Return evenly spaced values within a given interval.\n",
    "- arange can be called with a varying number of positional arguments.\n",
    "\n",
    "- **syntax**:\n",
    "\n",
    "  - np.arange(stop): values are generated within the half-open inerval[0, stop].\n",
    "  - np.arange(start, stop): values are generated within the half-open interval[start, stop].\n",
    "  - np.arange(start, stop, step): values are generated within the half-open interval[start, stop], with spacing between values given by step.\n",
    "\n",
    "- **parameters**:\n",
    "\n",
    "  - **start**:integer/real, Start of interval. The interval includes this value. The default start value is 0.\n",
    "\n",
    "  - **stop**: integer/real,End of interval. The interval does not include this value, except in some cases where step is not an integer and floating point round-off affects the length of out.\n",
    "\n",
    "  - **step**: integer/real, Spacing between values. For any output out, this is the distance between two adjacent values, out[i+1] - out[i]. The default step size is 1. If step is specified as a position argument, start must also be given.\n",
    "\n",
    "  - **dtype**: dtype,optional, The type of the output array. If dtype is not given, infer the data type from the other input arguments.\n",
    "\n",
    "  - **like**: array_like, optional, Reference object to allow the creation of arrays which are not NumPy arrays. If an array-like passed in as like supports the \\***\\* array_function \\*\\*** protocol, the result will be defined by it. In this case, it ensures the creation of an array object compatible with that passed in via this argument.\n"
   ]
  },
  {
   "cell_type": "code",
   "execution_count": 30,
   "metadata": {},
   "outputs": [
    {
     "name": "stdout",
     "output_type": "stream",
     "text": [
      "[0 1 2 3 4 5 6 7 8 9]\n"
     ]
    }
   ],
   "source": [
    "arr=np.arange(10)\n",
    "print(arr)"
   ]
  },
  {
   "cell_type": "code",
   "execution_count": 31,
   "metadata": {},
   "outputs": [
    {
     "name": "stdout",
     "output_type": "stream",
     "text": [
      "[1 2 3 4 5 6 7 8 9]\n"
     ]
    }
   ],
   "source": [
    "arr_ss =np.arange(1,10)\n",
    "print(arr_ss)"
   ]
  },
  {
   "cell_type": "code",
   "execution_count": 32,
   "metadata": {},
   "outputs": [
    {
     "name": "stdout",
     "output_type": "stream",
     "text": [
      "[1 3 5 7 9]\n"
     ]
    }
   ],
   "source": [
    "arr_sss = np.arange(1,10,2)\n",
    "print(arr_sss)"
   ]
  },
  {
   "cell_type": "code",
   "execution_count": null,
   "metadata": {},
   "outputs": [],
   "source": []
  }
 ],
 "metadata": {
  "kernelspec": {
   "display_name": "Python 3",
   "language": "python",
   "name": "python3"
  },
  "language_info": {
   "codemirror_mode": {
    "name": "ipython",
    "version": 3
   },
   "file_extension": ".py",
   "mimetype": "text/x-python",
   "name": "python",
   "nbconvert_exporter": "python",
   "pygments_lexer": "ipython3",
   "version": "3.10.12"
  },
  "orig_nbformat": 4
 },
 "nbformat": 4,
 "nbformat_minor": 2
}
