{
 "cells": [
  {
   "cell_type": "markdown",
   "metadata": {},
   "source": [
    "### **What is Numpy?**\n",
    "\n",
    "- Numpy is the fundamental package for scientific computing in Python.\n",
    "- It is a Python library that provides a multidimensional array object, various derived objects(such as masked array and matrices).\n",
    "- Also an assortment of routines for fast operations on arrays, including mathematical, logical, shape manipulation, sorting,slecting, I/O, descrete Fourier transforms, basic linear algebra, basic statistical operations, random simulation and much more.\n",
    "- At the core of the NumPy package, is the ndarry object. This encapsulation n-dimensional arrays of homogenous data types.\n",
    "\n",
    "### **Numpy Arrays vs Python Sequences**\n",
    "\n",
    "- Numpy arrays have a fixed size at creation, unlike Python list(which can grow dynamically). Changing the size of an ndarray will create a new aray and delete the original.\n",
    "- The elements in a NumPy array are required to be of the same data type, and thus will be the same size in memeory.\n",
    "- NumPy arrays facillitate advanced mathematical and other types of operations on large numbers of data. Typically such operations are executed more efficently and with less code that is possible using Python's built-in sequences.\n",
    "- A growing plethora of scientific and mathematical Python-based packages are using NumPy arrays; through these typically support Python-sqeuence input, they convert such input to NumPy arrays propr to processing, and they often output NumPy arrays.\n"
   ]
  },
  {
   "cell_type": "markdown",
   "metadata": {},
   "source": [
    "### **Create Numpy Array**\n"
   ]
  },
  {
   "cell_type": "code",
   "execution_count": 1,
   "metadata": {},
   "outputs": [],
   "source": [
    "# importing required library\n",
    "import numpy as np"
   ]
  },
  {
   "cell_type": "code",
   "execution_count": 2,
   "metadata": {},
   "outputs": [
    {
     "name": "stdout",
     "output_type": "stream",
     "text": [
      "1\n",
      "<class 'numpy.ndarray'>\n",
      "dimension of array:  0\n",
      "shape of array: ()\n"
     ]
    }
   ],
   "source": [
    "# create Numpy array as scaler\n",
    "scl = np.array(1)\n",
    "print(scl)\n",
    "\n",
    "# check type of array\n",
    "print(type(scl))\n",
    "\n",
    "# check dimension of array\n",
    "print(\"dimension of array: \", scl.ndim)\n",
    "\n",
    "# check shapeof array\n",
    "print(\"shape of array:\", scl.shape)"
   ]
  },
  {
   "cell_type": "code",
   "execution_count": 3,
   "metadata": {},
   "outputs": [
    {
     "name": "stdout",
     "output_type": "stream",
     "text": [
      "[1 2]\n",
      "class of array:  <class 'numpy.ndarray'>\n",
      "dimension of array:  1\n",
      "shape of array:  (2,)\n"
     ]
    }
   ],
   "source": [
    "# create a numpy array as vector\n",
    "vec = np.array([1, 2])\n",
    "print(vec)\n",
    "# check type of array\n",
    "print(\"class of array: \", type(vec))\n",
    "\n",
    "# checking dimension of array\n",
    "print(\"dimension of array: \", vec.ndim)\n",
    "\n",
    "# check shape of array\n",
    "print(\"shape of array: \", vec.shape)"
   ]
  },
  {
   "cell_type": "code",
   "execution_count": 4,
   "metadata": {},
   "outputs": [
    {
     "name": "stdout",
     "output_type": "stream",
     "text": [
      "[[1 2 3]\n",
      " [4 5 6]]\n",
      "class of array:  <class 'numpy.ndarray'>\n",
      "Dimension of array:  2\n",
      "shape of array:  (2, 3)\n"
     ]
    }
   ],
   "source": [
    "# Numpy 2D array as matric\n",
    "mat = np.array([[1, 2, 3], [4, 5, 6]])\n",
    "print(mat)\n",
    "# check type of array\n",
    "print(\"class of array: \", type(mat))\n",
    "\n",
    "# checking dimension of array\n",
    "print(\"Dimension of array: \", mat.ndim)\n",
    "\n",
    "# check shape of array\n",
    "print(\"shape of array: \", mat.shape)"
   ]
  },
  {
   "cell_type": "code",
   "execution_count": 5,
   "metadata": {},
   "outputs": [
    {
     "name": "stdout",
     "output_type": "stream",
     "text": [
      "[[[1 2 3]\n",
      "  [4 5 6]\n",
      "  [7 8 9]]]\n",
      "class of array:  <class 'numpy.ndarray'>\n",
      "Dimensionof array:  3\n",
      "shape of array:  (1, 3, 3)\n"
     ]
    }
   ],
   "source": [
    "# Naumpy 3d array as tensor\n",
    "ten = np.array([[[1, 2, 3], [4, 5, 6], [7, 8, 9]]])\n",
    "print(ten)\n",
    "\n",
    "# check type of array\n",
    "print(\"class of array: \", type(ten))\n",
    "\n",
    "# checking dimension of array\n",
    "print(\"Dimensionof array: \", ten.ndim)\n",
    "\n",
    "# check shape of array\n",
    "print(\"shape of array: \", ten.shape)"
   ]
  },
  {
   "cell_type": "markdown",
   "metadata": {},
   "source": [
    "### **Check and Change data type of array**\n"
   ]
  },
  {
   "cell_type": "code",
   "execution_count": 6,
   "metadata": {},
   "outputs": [
    {
     "name": "stdout",
     "output_type": "stream",
     "text": [
      "int32\n"
     ]
    }
   ],
   "source": [
    "# check data type of aray\n",
    "print(ten.dtype)"
   ]
  },
  {
   "cell_type": "code",
   "execution_count": 7,
   "metadata": {},
   "outputs": [
    {
     "name": "stdout",
     "output_type": "stream",
     "text": [
      "[[[1. 2. 3.]\n",
      "  [4. 5. 6.]\n",
      "  [7. 8. 9.]]]\n",
      "float16\n"
     ]
    }
   ],
   "source": [
    "# change data type of array\n",
    "ten_16 = ten.astype(\"float16\")\n",
    "print(ten_16)\n",
    "print(ten_16.dtype)"
   ]
  },
  {
   "cell_type": "code",
   "execution_count": 8,
   "metadata": {},
   "outputs": [
    {
     "name": "stdout",
     "output_type": "stream",
     "text": [
      "[[[1. 2. 3.]\n",
      "  [4. 5. 6.]\n",
      "  [7. 8. 9.]]]\n",
      "int16\n"
     ]
    }
   ],
   "source": [
    "ten_int16 = ten.astype(\"int16\")\n",
    "print(ten_16)\n",
    "print(ten_int16.dtype)"
   ]
  },
  {
   "cell_type": "code",
   "execution_count": 9,
   "metadata": {},
   "outputs": [
    {
     "name": "stdout",
     "output_type": "stream",
     "text": [
      "[[[ True  True  True]\n",
      "  [ True  True  True]\n",
      "  [ True  True  True]]]\n",
      "bool\n"
     ]
    }
   ],
   "source": [
    "ten_bool = ten.astype(\"bool\")\n",
    "print(ten_bool)\n",
    "print(ten_bool.dtype)"
   ]
  },
  {
   "cell_type": "markdown",
   "metadata": {},
   "source": [
    "### **np.arange**\n",
    "\n",
    "- Return evenly spaced values within a given interval.\n",
    "- arange can be called with a varying number of positional arguments.\n",
    "\n",
    "- **syntax**:\n",
    "\n",
    "  - np.arange(stop): values are generated within the half-open inerval[0, stop].\n",
    "  - np.arange(start, stop): values are generated within the half-open interval[start, stop].\n",
    "  - np.arange(start, stop, step): values are generated within the half-open interval[start, stop], with spacing between values given by step.\n",
    "\n",
    "- **parameters**:\n",
    "\n",
    "  - **start**:integer/real, Start of interval. The interval includes this value. The default start value is 0.\n",
    "\n",
    "  - **stop**: integer/real,End of interval. The interval does not include this value, except in some cases where step is not an integer and floating point round-off affects the length of out.\n",
    "\n",
    "  - **step**: integer/real, Spacing between values. For any output out, this is the distance between two adjacent values, out[i+1] - out[i]. The default step size is 1. If step is specified as a position argument, start must also be given.\n",
    "\n",
    "  - **dtype**: dtype,optional, The type of the output array. If dtype is not given, infer the data type from the other input arguments.\n",
    "\n",
    "  - **like**: array_like, optional, Reference object to allow the creation of arrays which are not NumPy arrays. If an array-like passed in as like supports the \\***\\* array_function \\*\\*** protocol, the result will be defined by it. In this case, it ensures the creation of an array object compatible with that passed in via this argument.\n"
   ]
  },
  {
   "cell_type": "code",
   "execution_count": 10,
   "metadata": {},
   "outputs": [
    {
     "name": "stdout",
     "output_type": "stream",
     "text": [
      "[0 1 2 3 4 5 6 7 8 9]\n"
     ]
    }
   ],
   "source": [
    "arr = np.arange(10)\n",
    "print(arr)"
   ]
  },
  {
   "cell_type": "code",
   "execution_count": 11,
   "metadata": {},
   "outputs": [
    {
     "name": "stdout",
     "output_type": "stream",
     "text": [
      "[1 2 3 4 5 6 7 8 9]\n"
     ]
    }
   ],
   "source": [
    "arr_ss = np.arange(1, 10)\n",
    "print(arr_ss)"
   ]
  },
  {
   "cell_type": "code",
   "execution_count": 12,
   "metadata": {},
   "outputs": [
    {
     "name": "stdout",
     "output_type": "stream",
     "text": [
      "[1 3 5 7 9]\n"
     ]
    }
   ],
   "source": [
    "arr_sss = np.arange(1, 10, 2)\n",
    "print(arr_sss)"
   ]
  },
  {
   "cell_type": "markdown",
   "metadata": {},
   "source": [
    "### **numpy.reshape**\n",
    "\n",
    "- **np.reshape()**: gives a new shape to an array without changing its data.\n",
    "- **Syntax: np.reshape(a, newshape, order)**\n",
    "- **Parameters:**\n",
    "  - **a**: array to be reshaped.\n",
    "  - **newshape**: The new shape should be compatible with the original shape. If an integer, then the result will be a 1-D array of that length. One shape dimension can be -1. In this case, the value is inferred from the length of the array and remaining dimensions.\n",
    "  - **Order:**\n",
    "    - **C:** means to read / write the elements using C-like index order, with the last axis index changing fastest, back to the first axis index changing slowest.\n",
    "    - **F:** means to read / write the elements using Fortran-like index order, with the first index changing fastest, and the last index changing slowest.\n",
    "    - **A:** means to read / write the elements in Fortran-like index order if a is Fortran contiguous in memory, C-like order otherwise.\n"
   ]
  },
  {
   "cell_type": "code",
   "execution_count": 13,
   "metadata": {},
   "outputs": [
    {
     "name": "stdout",
     "output_type": "stream",
     "text": [
      "[ 0  1  2  3  4  5  6  7  8  9 10 11]\n"
     ]
    }
   ],
   "source": [
    "a = np.arange(12)\n",
    "print(a)"
   ]
  },
  {
   "cell_type": "code",
   "execution_count": 14,
   "metadata": {},
   "outputs": [
    {
     "name": "stdout",
     "output_type": "stream",
     "text": [
      "[[ 0  1  2  3]\n",
      " [ 4  5  6  7]\n",
      " [ 8  9 10 11]]\n"
     ]
    }
   ],
   "source": [
    "a = np.reshape(a, (3, 4))\n",
    "print(a)"
   ]
  },
  {
   "cell_type": "markdown",
   "metadata": {},
   "source": [
    "### **numpy.ones**\n",
    "\n",
    "- Return a new array of given shape and type, filled with ones.\n",
    "- **syntax**: numpy.ones(shape, dtype=None, order='c',\\*, Like=None)\n",
    "- **Parameters**:\n",
    "  - **shape**: int/sequence of ints, Shape of the new array, e.g., (2, 3) or 2.\n",
    "  - **dtype**: data-type/opetional, The desired data-type for the array, e.g., numpy.int8. Default is numpy.float64.\n",
    "  - **order**: {C, F}/opetional, default:C, Whether to store multi-dimensional data in row-major (C-style) or column-major (Fortran-style) order in memory.\n",
    "  - **Like**: array_like/optional, Reference object to allow the creation of arrays which are not NumPy arrays. If an array-like passed in as like supports the \\_\\_ **array_function** \\_\\_ protocol, the result will be defined by it. In this case, it ensures the creation of an array object compatible with that passed in via this argument.\n"
   ]
  },
  {
   "cell_type": "code",
   "execution_count": 15,
   "metadata": {},
   "outputs": [
    {
     "name": "stdout",
     "output_type": "stream",
     "text": [
      "[[1. 1. 1. 1.]\n",
      " [1. 1. 1. 1.]\n",
      " [1. 1. 1. 1.]]\n"
     ]
    }
   ],
   "source": [
    "# create a np.ones\n",
    "one = np.ones((3, 4))\n",
    "print(one)"
   ]
  },
  {
   "cell_type": "code",
   "execution_count": 16,
   "metadata": {},
   "outputs": [
    {
     "name": "stdout",
     "output_type": "stream",
     "text": [
      "[[ 0  1  2  3]\n",
      " [ 4  5  6  7]\n",
      " [ 8  9 10 11]]\n"
     ]
    }
   ],
   "source": [
    "b = np.ones((5, 6), dtype=np.int16)\n",
    "print(a)"
   ]
  },
  {
   "cell_type": "markdown",
   "metadata": {},
   "source": [
    "### **numpy.random.random**\n",
    "\n",
    "**random.random(size=None)**: Return random floats in the half-open interval [0.0, 1.0). Alias for random_sample to ease forward-porting to the new random API.\n"
   ]
  },
  {
   "cell_type": "code",
   "execution_count": 17,
   "metadata": {},
   "outputs": [
    {
     "name": "stdout",
     "output_type": "stream",
     "text": [
      "[[0.27139715 0.68873031 0.84842861 0.91685186]\n",
      " [0.99836718 0.79720431 0.35882148 0.11035553]\n",
      " [0.5770997  0.462053   0.84846595 0.80794079]]\n"
     ]
    }
   ],
   "source": [
    "ran = np.random.random((3, 4))\n",
    "print(ran)"
   ]
  },
  {
   "cell_type": "markdown",
   "metadata": {},
   "source": [
    "### **numpy.linspace**:\n",
    "\n",
    "- Return evenly spaced numbers over a specified interval.\n",
    "- Returns num evenly spaced samples, calculated over the interval [start, stop].\n",
    "- The endpoint of the interval can optionally be excluded.\n",
    "- **Syntax**\n",
    "\n",
    "  - **numpy.linspace(start, stop, num=50, endpoint=True, retstep=False, dtype=None, axis=0)**\n",
    "\n",
    "- **Paramters**\n",
    "\n",
    "  - **star**:(array_like), The starting value of the sequence.\n",
    "\n",
    "  - **stop**:(array_like), The end value of the sequence, unless endpoint is set to False. In that case, the sequence consists of all but the last of num + 1 evenly spaced samples, so that stop is excluded. Note that the step size changes when endpoint is False.\n",
    "\n",
    "  - **num**:(int/optional)->Number of samples to generate. Default is 50. Must be non-negative.\n",
    "\n",
    "  - **endpoint**:(bool/optional),If True, stop is the last sample. Otherwise, it is not included. Default is True.\n",
    "\n",
    "  - **retstep**:(bool, optional),If True, return (samples, step), where step is the spacing between samples.\n",
    "\n",
    "  - **dtype**:(dtype, optional),The type of the output array. If dtype is not given, the data type is inferred from start and stop. The inferred dtype will never be an integer; float is chosen even if the arguments would produce an array of integers.\n",
    "\n",
    "  - **axis**:(int/optional) The axis in the result to store the samples. Relevant only if start or stop are array-like. By default (0), the samples will be along a new axis inserted at the beginning. Use -1 to get an axis at the end.\n"
   ]
  },
  {
   "cell_type": "code",
   "execution_count": 18,
   "metadata": {},
   "outputs": [
    {
     "name": "stdout",
     "output_type": "stream",
     "text": [
      "[2.   2.25 2.5  2.75 3.  ]\n"
     ]
    }
   ],
   "source": [
    "ln = np.linspace(2, 3, num=5)\n",
    "print(ln)"
   ]
  },
  {
   "cell_type": "markdown",
   "metadata": {},
   "source": [
    "### **numpy.identity** :\n",
    "\n",
    "- Return the identity array\n",
    "- The identity array is a square array with ones on the main diagonal.\n",
    "- **Syntax**\n",
    "  numpy.identity(n, dtype=None, \\*, like=None)\n",
    "\n",
    "- **Parameters**:\n",
    "\n",
    "  - **n**:(int),Number of rows (and columns) in n x n output.\n",
    "\n",
    "  - **dtype**:(data-type, optional),Data-type of the output. Defaults to float.\n",
    "\n",
    "  - **like**:(array_like, optional): Reference object to allow the creation of arrays which are not NumPy arrays. If an array-like passed in as like supports the \\_\\_ **array_function** \\_\\_ protocol, the result will be defined by it. In this case, it ensures the creation of an array object compatible with that passed in via this argument.\n"
   ]
  },
  {
   "cell_type": "code",
   "execution_count": 19,
   "metadata": {},
   "outputs": [
    {
     "name": "stdout",
     "output_type": "stream",
     "text": [
      "[[1. 0. 0.]\n",
      " [0. 1. 0.]\n",
      " [0. 0. 1.]]\n"
     ]
    }
   ],
   "source": [
    "idd = np.identity(3)\n",
    "print(idd)"
   ]
  },
  {
   "cell_type": "markdown",
   "metadata": {},
   "source": [
    "### **Array Attributes**\n"
   ]
  },
  {
   "cell_type": "markdown",
   "metadata": {},
   "source": [
    "### **Changing DataType**\n"
   ]
  },
  {
   "cell_type": "code",
   "execution_count": 20,
   "metadata": {},
   "outputs": [
    {
     "name": "stdout",
     "output_type": "stream",
     "text": [
      "[[0.27139715 0.68873031 0.84842861 0.91685186]\n",
      " [0.99836718 0.79720431 0.35882148 0.11035553]\n",
      " [0.5770997  0.462053   0.84846595 0.80794079]]\n"
     ]
    }
   ],
   "source": [
    "ran.astype(np.int32)\n",
    "print(ran)"
   ]
  },
  {
   "cell_type": "markdown",
   "metadata": {},
   "source": [
    "### **Array Operations**\n"
   ]
  },
  {
   "cell_type": "code",
   "execution_count": 21,
   "metadata": {},
   "outputs": [
    {
     "data": {
      "text/plain": [
       "array([[12, 13, 14, 15],\n",
       "       [16, 17, 18, 19],\n",
       "       [20, 21, 22, 23]])"
      ]
     },
     "execution_count": 21,
     "metadata": {},
     "output_type": "execute_result"
    }
   ],
   "source": [
    "a1 = np.arange(12).reshape(3, 4)\n",
    "a2 = np.arange(12, 24).reshape(3, 4)\n",
    "\n",
    "a2"
   ]
  },
  {
   "cell_type": "code",
   "execution_count": 22,
   "metadata": {},
   "outputs": [
    {
     "data": {
      "text/plain": [
       "array([[ 0,  2,  4,  6],\n",
       "       [ 8, 10, 12, 14],\n",
       "       [16, 18, 20, 22]])"
      ]
     },
     "execution_count": 22,
     "metadata": {},
     "output_type": "execute_result"
    }
   ],
   "source": [
    "# Scaler Operations\n",
    "\n",
    "# arithmetic\n",
    "a1 * 2"
   ]
  },
  {
   "cell_type": "code",
   "execution_count": 23,
   "metadata": {},
   "outputs": [
    {
     "data": {
      "text/plain": [
       "array([[ True,  True,  True,  True],\n",
       "       [ True,  True,  True,  True],\n",
       "       [ True,  True,  True,  True]])"
      ]
     },
     "execution_count": 23,
     "metadata": {},
     "output_type": "execute_result"
    }
   ],
   "source": [
    "# relational operators\n",
    "a2 > 5"
   ]
  },
  {
   "cell_type": "code",
   "execution_count": 24,
   "metadata": {},
   "outputs": [
    {
     "data": {
      "text/plain": [
       "array([[False, False, False, False],\n",
       "       [ True,  True,  True,  True],\n",
       "       [ True,  True,  True,  True]])"
      ]
     },
     "execution_count": 24,
     "metadata": {},
     "output_type": "execute_result"
    }
   ],
   "source": [
    "a2 > 15"
   ]
  },
  {
   "cell_type": "code",
   "execution_count": 25,
   "metadata": {},
   "outputs": [
    {
     "data": {
      "text/plain": [
       "array([[False, False, False,  True],\n",
       "       [False, False, False, False],\n",
       "       [False, False, False, False]])"
      ]
     },
     "execution_count": 25,
     "metadata": {},
     "output_type": "execute_result"
    }
   ],
   "source": [
    "a2 == 15"
   ]
  },
  {
   "cell_type": "code",
   "execution_count": 26,
   "metadata": {},
   "outputs": [
    {
     "data": {
      "text/plain": [
       "array([[12, 14, 16, 18],\n",
       "       [20, 22, 24, 26],\n",
       "       [28, 30, 32, 34]])"
      ]
     },
     "execution_count": 26,
     "metadata": {},
     "output_type": "execute_result"
    }
   ],
   "source": [
    "# vectors operations\n",
    "a3 = a1 + a2\n",
    "a3"
   ]
  },
  {
   "cell_type": "markdown",
   "metadata": {},
   "source": [
    "### **Array Functions**\n"
   ]
  },
  {
   "cell_type": "code",
   "execution_count": 27,
   "metadata": {},
   "outputs": [
    {
     "data": {
      "text/plain": [
       "array([[98., 84.,  3.],\n",
       "       [34., 95., 96.],\n",
       "       [46., 82., 42.]])"
      ]
     },
     "execution_count": 27,
     "metadata": {},
     "output_type": "execute_result"
    }
   ],
   "source": [
    "a1 = np.random.random((3, 3))\n",
    "a1 = np.round(a1 * 100)\n",
    "a1"
   ]
  },
  {
   "cell_type": "code",
   "execution_count": 28,
   "metadata": {},
   "outputs": [
    {
     "data": {
      "text/plain": [
       "98.0"
      ]
     },
     "execution_count": 28,
     "metadata": {},
     "output_type": "execute_result"
    }
   ],
   "source": [
    "# max/min/sum/prod\n",
    "np.max(a1)"
   ]
  },
  {
   "cell_type": "code",
   "execution_count": 29,
   "metadata": {},
   "outputs": [
    {
     "data": {
      "text/plain": [
       "3.0"
      ]
     },
     "execution_count": 29,
     "metadata": {},
     "output_type": "execute_result"
    }
   ],
   "source": [
    "np.min(a1)"
   ]
  },
  {
   "cell_type": "code",
   "execution_count": 30,
   "metadata": {},
   "outputs": [
    {
     "data": {
      "text/plain": [
       "580.0"
      ]
     },
     "execution_count": 30,
     "metadata": {},
     "output_type": "execute_result"
    }
   ],
   "source": [
    "np.sum(a1)"
   ]
  },
  {
   "cell_type": "code",
   "execution_count": 31,
   "metadata": {},
   "outputs": [
    {
     "data": {
      "text/plain": [
       "1213169117368320.0"
      ]
     },
     "execution_count": 31,
     "metadata": {},
     "output_type": "execute_result"
    }
   ],
   "source": [
    "np.prod(a1)"
   ]
  },
  {
   "cell_type": "code",
   "execution_count": 33,
   "metadata": {},
   "outputs": [
    {
     "data": {
      "text/plain": [
       "array([34., 82.,  3.])"
      ]
     },
     "execution_count": 33,
     "metadata": {},
     "output_type": "execute_result"
    }
   ],
   "source": [
    "# find minimum of each row column -> 0, row -> 1\n",
    "np.min(a1, axis=0)"
   ]
  },
  {
   "cell_type": "code",
   "execution_count": 35,
   "metadata": {},
   "outputs": [
    {
     "data": {
      "text/plain": [
       "array([98., 96., 82.])"
      ]
     },
     "execution_count": 35,
     "metadata": {},
     "output_type": "execute_result"
    }
   ],
   "source": [
    "np.max(a1, axis=1)"
   ]
  },
  {
   "cell_type": "code",
   "execution_count": 37,
   "metadata": {},
   "outputs": [
    {
     "name": "stdout",
     "output_type": "stream",
     "text": [
      "meen= 64.44444444444444\n",
      "med= 82.0\n",
      "standard_deviation = 32.132057758607196\n",
      "varaiance= 1032.469135802469\n"
     ]
    }
   ],
   "source": [
    "# mean/median/std/var\n",
    "meen = np.mean(a1)\n",
    "print(\"meen=\", meen)\n",
    "\n",
    "med = np.median(a1)\n",
    "print(\"med=\", med)\n",
    "\n",
    "stdr = np.std(a1)\n",
    "print(\"standard_deviation =\", stdr)\n",
    "\n",
    "var = np.var(a1)\n",
    "print(\"varaiance=\", var)"
   ]
  },
  {
   "cell_type": "markdown",
   "metadata": {},
   "source": [
    "### **Trigonometric functions**\n"
   ]
  },
  {
   "cell_type": "code",
   "execution_count": 38,
   "metadata": {},
   "outputs": [
    {
     "data": {
      "text/plain": [
       "array([[-0.57338187,  0.73319032,  0.14112001],\n",
       "       [ 0.52908269,  0.68326171,  0.98358775],\n",
       "       [ 0.90178835,  0.31322878, -0.91652155]])"
      ]
     },
     "execution_count": 38,
     "metadata": {},
     "output_type": "execute_result"
    }
   ],
   "source": [
    "np.sin(a1)"
   ]
  },
  {
   "cell_type": "markdown",
   "metadata": {},
   "source": [
    "### **Dot Product**\n"
   ]
  },
  {
   "cell_type": "code",
   "execution_count": 44,
   "metadata": {},
   "outputs": [
    {
     "data": {
      "text/plain": [
       "array([[114, 120, 126],\n",
       "       [378, 400, 422],\n",
       "       [642, 680, 718]])"
      ]
     },
     "execution_count": 44,
     "metadata": {},
     "output_type": "execute_result"
    }
   ],
   "source": [
    "a2 = np.arange(12).reshape(3, 4)\n",
    "a3 = np.arange(12, 24).reshape(4, 3)\n",
    "\n",
    "np.dot(a2, a3)"
   ]
  },
  {
   "cell_type": "markdown",
   "metadata": {},
   "source": [
    "### **Log & Exponents**\n"
   ]
  },
  {
   "cell_type": "code",
   "execution_count": 45,
   "metadata": {},
   "outputs": [
    {
     "data": {
      "text/plain": [
       "array([[4.58496748, 4.4308168 , 1.09861229],\n",
       "       [3.52636052, 4.55387689, 4.56434819],\n",
       "       [3.8286414 , 4.40671925, 3.73766962]])"
      ]
     },
     "execution_count": 45,
     "metadata": {},
     "output_type": "execute_result"
    }
   ],
   "source": [
    "np.log(a1)"
   ]
  },
  {
   "cell_type": "code",
   "execution_count": 46,
   "metadata": {},
   "outputs": [
    {
     "data": {
      "text/plain": [
       "array([[3.63797095e+42, 3.02507732e+36, 2.00855369e+01],\n",
       "       [5.83461743e+14, 1.81123908e+41, 4.92345829e+41],\n",
       "       [9.49611942e+19, 4.09399696e+35, 1.73927494e+18]])"
      ]
     },
     "execution_count": 46,
     "metadata": {},
     "output_type": "execute_result"
    }
   ],
   "source": [
    "np.exp(a1)"
   ]
  },
  {
   "cell_type": "markdown",
   "metadata": {},
   "source": [
    "### **Round/floor/ceil**\n"
   ]
  },
  {
   "cell_type": "code",
   "execution_count": 47,
   "metadata": {},
   "outputs": [
    {
     "data": {
      "text/plain": [
       "array([[55., 48., 81.],\n",
       "       [97., 98., 77.]])"
      ]
     },
     "execution_count": 47,
     "metadata": {},
     "output_type": "execute_result"
    }
   ],
   "source": [
    "np.round(np.random.random((2, 3)) * 100)"
   ]
  },
  {
   "cell_type": "code",
   "execution_count": 48,
   "metadata": {},
   "outputs": [
    {
     "data": {
      "text/plain": [
       "array([[90., 71., 87.],\n",
       "       [26., 40., 92.]])"
      ]
     },
     "execution_count": 48,
     "metadata": {},
     "output_type": "execute_result"
    }
   ],
   "source": [
    "np.floor(np.random.random((2, 3)) * 100)"
   ]
  },
  {
   "cell_type": "code",
   "execution_count": 49,
   "metadata": {},
   "outputs": [
    {
     "data": {
      "text/plain": [
       "array([[93., 68., 75.],\n",
       "       [37., 48., 16.]])"
      ]
     },
     "execution_count": 49,
     "metadata": {},
     "output_type": "execute_result"
    }
   ],
   "source": [
    "np.ceil(np.random.random((2, 3)) * 100)"
   ]
  },
  {
   "cell_type": "code",
   "execution_count": null,
   "metadata": {},
   "outputs": [],
   "source": []
  }
 ],
 "metadata": {
  "kernelspec": {
   "display_name": "Python 3",
   "language": "python",
   "name": "python3"
  },
  "language_info": {
   "codemirror_mode": {
    "name": "ipython",
    "version": 3
   },
   "file_extension": ".py",
   "mimetype": "text/x-python",
   "name": "python",
   "nbconvert_exporter": "python",
   "pygments_lexer": "ipython3",
   "version": "3.10.12"
  },
  "orig_nbformat": 4
 },
 "nbformat": 4,
 "nbformat_minor": 2
}
