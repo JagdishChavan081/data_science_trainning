{
 "cells": [
  {
   "cell_type": "code",
   "execution_count": 2,
   "metadata": {},
   "outputs": [],
   "source": [
    "class Atm:\n",
    "    # constructor(special function)-> superpower ->\n",
    "    def __init__(self):\n",
    "        self.pin = \"\"\n",
    "        self.balance = 0\n",
    "        # print(\"I got executed\")\n",
    "        self.menu()\n",
    "\n",
    "    def menu(self):\n",
    "        user_input = input(\n",
    "            \"\"\"\n",
    "    Hi How can I help you?\n",
    "    1. press 1 to create pin\n",
    "    2. press 2 to change pin\n",
    "    3. press 3 to check balance\n",
    "    4. press 4 to withdraw\n",
    "    5. Anything else to exit\n",
    "              \"\"\"\n",
    "        )\n",
    "\n",
    "        if user_input == \"1\":\n",
    "            # create pin\n",
    "            self.create_pin()\n",
    "\n",
    "        elif user_input == \"2\":\n",
    "            # change pin\n",
    "            self.change_pin()\n",
    "        elif user_input == \"3\":\n",
    "            # check balance\n",
    "            self.check_balance()\n",
    "        elif user_input == \"4\":\n",
    "            # withdraw\n",
    "            self.withdraw()\n",
    "            pass\n",
    "        else:\n",
    "            exit()\n",
    "\n",
    "    def create_pin(self):\n",
    "        user_pin = input(\"enter your pin\")\n",
    "        self.pin = user_pin\n",
    "\n",
    "        user_balance = int(input(\"enter your balance\"))\n",
    "        self.balance = user_balance\n",
    "\n",
    "        print(\"pin created successfully\")\n",
    "        self.menu()\n",
    "\n",
    "    def change_pin(self):\n",
    "        old_pin = input(\"enter old pin\")\n",
    "\n",
    "        if old_pin == self.pin:\n",
    "            # let the user change the pin\n",
    "            new_pin = input(\"enter new pin\")\n",
    "            self.pin = new_pin\n",
    "            print(\"pin change successful\")\n",
    "\n",
    "        else:\n",
    "            print(\"sorry wrong pin cant allow to change \")\n",
    "        self.menu()\n",
    "\n",
    "    def check_balance(self):\n",
    "        user_pin = input(\"Enter your pin\")\n",
    "        if user_pin == self.pin:\n",
    "            print(\"your balance is\", self.balance)\n",
    "\n",
    "        else:\n",
    "            print(\"chal nikal yaha se\")\n",
    "\n",
    "    def withdraw(self):\n",
    "        user_pin = input(\"enetr the pin\")\n",
    "        if user_pin == self.pin:\n",
    "            # allow to withdraw\n",
    "            amount = int(input(\"Enter the amount\"))\n",
    "            if amount <= self.balance:\n",
    "                self.balance = self.balance - amount\n",
    "                print(\"withdrawal successful, current balance is\", self.balance)\n",
    "        else:\n",
    "            (\"check pin\")\n",
    "        self.menu()"
   ]
  },
  {
   "cell_type": "code",
   "execution_count": 7,
   "metadata": {},
   "outputs": [],
   "source": [
    "class Fraction:\n",
    "    # paramaterized constructor\n",
    "    def __init__(self, x, y):\n",
    "        self.num = x\n",
    "        self.den = y\n",
    "\n",
    "    # code to print output in desired way\n",
    "    def __str__(self):\n",
    "        return \"{}/{}\".format(self.num, self.den)\n",
    "\n",
    "    # code to perform addition of fraction\n",
    "    def __add__(self, other):\n",
    "        new_num = self.num * other.den + other.num * self.den\n",
    "        new_den = self.den * other.den\n",
    "\n",
    "        return \"{}/{}\".format(new_num, new_den)\n",
    "\n",
    "    # code to perform substraction of fraction\n",
    "    def __sub__(self, other):\n",
    "        new_num = self.num * other.den - other.num * self.den\n",
    "        new_den = self.den * other.den\n",
    "\n",
    "        return \"{}/{}\".format(new_num, new_den)\n",
    "\n",
    "    def __mul__(self, other):\n",
    "        new_num = self.num * other.num\n",
    "        new_den = self.den * other.den\n",
    "\n",
    "        return \"{}/{}\".format(new_num, new_den)\n",
    "\n",
    "    def __truediv__(self, other):\n",
    "        new_num = self.num * other.den\n",
    "        new_den = self.den * other.num\n",
    "\n",
    "        return \"{}/{}\".format(new_num, new_den)"
   ]
  },
  {
   "cell_type": "code",
   "execution_count": 8,
   "metadata": {},
   "outputs": [],
   "source": [
    "fr1 = Fraction(3, 4)\n",
    "fr2 = Fraction(1, 2)"
   ]
  },
  {
   "cell_type": "code",
   "execution_count": null,
   "metadata": {},
   "outputs": [],
   "source": []
  },
  {
   "cell_type": "code",
   "execution_count": 9,
   "metadata": {},
   "outputs": [
    {
     "name": "stdout",
     "output_type": "stream",
     "text": [
      "10/8\n",
      "2/8\n",
      "3/8\n",
      "6/4\n"
     ]
    }
   ],
   "source": [
    "print(fr1 + fr2)\n",
    "print(fr1 - fr2)\n",
    "print(fr1 * fr2)\n",
    "print(fr1 / fr2)"
   ]
  },
  {
   "cell_type": "markdown",
   "metadata": {},
   "source": [
    "## Part -2 Encapsulation & Static Keyword\n"
   ]
  },
  {
   "cell_type": "markdown",
   "metadata": {},
   "source": [
    "Write OOP Classes to handle the following sceniros:\n",
    "\n",
    "- A User can create and view 2D coordinates.\n",
    "- A user can find out the distance between 2 Coordiante.\n",
    "- A user can find the distance of a coordiante from origin.\n",
    "- A user can check if a point lies on a given line.\n",
    "- A user can find the distance between a given 2D point and given Line.\n"
   ]
  },
  {
   "cell_type": "code",
   "execution_count": 16,
   "metadata": {},
   "outputs": [],
   "source": [
    "class Point:\n",
    "    def __init__(self, x, y):\n",
    "        self.x_cord = x\n",
    "        self.y_cord = y\n",
    "\n",
    "    def __str__(self):\n",
    "        return \"<{},{}>\".format(self.x_cord, self.y_cord)\n",
    "\n",
    "    def euclidean_distance(self, other):\n",
    "        return (\n",
    "            (self.x_cord - other.x_cord) ** 2 + (self.y_cord - other.y_cord) ** 2\n",
    "        ) ** 0.5\n",
    "\n",
    "    def distance_from_origin(self):\n",
    "        return self.euclidean_distance(Point(0, 0))\n",
    "\n",
    "\n",
    "class Line:\n",
    "    def __init__(self, A, B, C):\n",
    "        self.A = A\n",
    "        self.B = B\n",
    "        self.C = C\n",
    "\n",
    "    def __str__(self):\n",
    "        return \"{}x + {}y + {} = 0\".format(self.A, self.B, self.C)\n",
    "\n",
    "    def point_on_line(line, point):\n",
    "        if line.A * point.x_cord + line.B * point.y_cord + line.C == 0:\n",
    "            return \"Point lies on the line\"\n",
    "        else:\n",
    "            return \"Point Dont lies on line\"\n",
    "\n",
    "    def shortest_distance(line, point):\n",
    "        abs(line.A * point.x_cord + line.B * point.y_cord + line.C) / (\n",
    "            line.A**2 + line.B**2\n",
    "        ) ** 0.5"
   ]
  },
  {
   "cell_type": "code",
   "execution_count": 10,
   "metadata": {},
   "outputs": [
    {
     "name": "stdout",
     "output_type": "stream",
     "text": [
      "<0,0>\n",
      "<1,1>\n"
     ]
    },
    {
     "data": {
      "text/plain": [
       "1.4142135623730951"
      ]
     },
     "execution_count": 10,
     "metadata": {},
     "output_type": "execute_result"
    }
   ],
   "source": [
    "# task 1,2,3\n",
    "p1 = Point(0, 0)\n",
    "p2 = Point(1, 1)\n",
    "print(p1)\n",
    "print(p2)\n",
    "\n",
    "p1.euclidean_distance(p2)\n",
    "p2.distance_from_origin()"
   ]
  },
  {
   "cell_type": "code",
   "execution_count": 13,
   "metadata": {},
   "outputs": [
    {
     "name": "stdout",
     "output_type": "stream",
     "text": [
      "3x + 4y + 5 = 0\n"
     ]
    }
   ],
   "source": [
    "L1 = Line(3, 4, 5)\n",
    "print(L1)"
   ]
  },
  {
   "cell_type": "code",
   "execution_count": 18,
   "metadata": {},
   "outputs": [
    {
     "name": "stdout",
     "output_type": "stream",
     "text": [
      "1x + 1y + -2 = 0\n",
      "<1,2>\n"
     ]
    },
    {
     "data": {
      "text/plain": [
       "'Point Dont lies on line'"
      ]
     },
     "execution_count": 18,
     "metadata": {},
     "output_type": "execute_result"
    }
   ],
   "source": [
    "# task 4\n",
    "l1 = Line(1, 1, -2)\n",
    "p1 = Point(1, 2)\n",
    "print(l1)\n",
    "print(p1)\n",
    "\n",
    "l1.point_on_line(p1)"
   ]
  },
  {
   "cell_type": "markdown",
   "metadata": {},
   "source": [
    "How Objects access atttributes\n"
   ]
  },
  {
   "cell_type": "code",
   "execution_count": null,
   "metadata": {},
   "outputs": [],
   "source": []
  }
 ],
 "metadata": {
  "kernelspec": {
   "display_name": "Python 3",
   "language": "python",
   "name": "python3"
  },
  "language_info": {
   "codemirror_mode": {
    "name": "ipython",
    "version": 3
   },
   "file_extension": ".py",
   "mimetype": "text/x-python",
   "name": "python",
   "nbconvert_exporter": "python",
   "pygments_lexer": "ipython3",
   "version": "3.8.18"
  },
  "orig_nbformat": 4
 },
 "nbformat": 4,
 "nbformat_minor": 2
}
