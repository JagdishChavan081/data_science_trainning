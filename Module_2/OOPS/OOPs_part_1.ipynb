{
 "cells": [
  {
   "cell_type": "code",
   "execution_count": 10,
   "metadata": {},
   "outputs": [],
   "source": [
    "class Atm:\n",
    "    # constructor(special function)-> superpower ->\n",
    "    def __init__(self):\n",
    "        self.pin = \"\"\n",
    "        self.balance = 0\n",
    "        # print(\"I got executed\")\n",
    "        self.menu()\n",
    "\n",
    "    def menu(self):\n",
    "        user_input = input(\n",
    "            \"\"\"\n",
    "    Hi How can I help you?\n",
    "    1. press 1 to create pin\n",
    "    2. press 2 to change pin\n",
    "    3. press 3 to check balance\n",
    "    4. press 4 to withdraw\n",
    "    5. Anything else to exit\n",
    "              \"\"\"\n",
    "        )\n",
    "\n",
    "        if user_input == \"1\":\n",
    "            #create pin\n",
    "            self.create_pin()\n",
    "\n",
    "        elif user_input ==\"2\":\n",
    "            #change pin\n",
    "            pass\n",
    "        elif user_input ==\"3\":\n",
    "            #check balance\n",
    "            pass\n",
    "        elif user_input ==\"4\":\n",
    "            #withdraw\n",
    "            pass\n",
    "        else:\n",
    "            exit()\n",
    "\n",
    "    def create_pin(self):\n",
    "        user_pin = input('enter your pin')\n",
    "        self.pin = user_pin\n",
    "\n",
    "        user_balance=int(input('enter your balance'))\n",
    "        self.balance = user_balance\n",
    "\n",
    "        print('pin created successfully')\n",
    "\n",
    "    def change_pin(self):\n",
    "        old_pin=input('enter old pin')\n",
    "\n",
    "        if old_pin ==self.pin:\n",
    "            #let user change the pin\n",
    "            \n",
    "        else:\n",
    "            print(\"sorry wrong pin cant allow to change \")\n",
    "            self.menu()\n",
    "\n",
    "\n",
    "\n",
    "\n",
    "\n"
   ]
  },
  {
   "cell_type": "code",
   "execution_count": 11,
   "metadata": {},
   "outputs": [],
   "source": [
    "obj = Atm()"
   ]
  },
  {
   "cell_type": "code",
   "execution_count": 6,
   "metadata": {},
   "outputs": [
    {
     "name": "stdout",
     "output_type": "stream",
     "text": [
      "<class '__main__.Atm'>\n"
     ]
    }
   ],
   "source": [
    "print(type(obj))"
   ]
  },
  {
   "cell_type": "code",
   "execution_count": null,
   "metadata": {},
   "outputs": [],
   "source": [
    "obj."
   ]
  }
 ],
 "metadata": {
  "kernelspec": {
   "display_name": "Python 3",
   "language": "python",
   "name": "python3"
  },
  "language_info": {
   "codemirror_mode": {
    "name": "ipython",
    "version": 3
   },
   "file_extension": ".py",
   "mimetype": "text/x-python",
   "name": "python",
   "nbconvert_exporter": "python",
   "pygments_lexer": "ipython3",
   "version": "3.8.18"
  },
  "orig_nbformat": 4
 },
 "nbformat": 4,
 "nbformat_minor": 2
}
